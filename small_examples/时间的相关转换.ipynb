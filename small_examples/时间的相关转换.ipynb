{
 "cells": [
  {
   "cell_type": "code",
   "execution_count": 2,
   "metadata": {},
   "outputs": [],
   "source": [
    "import time\n",
    "import datetime as dt"
   ]
  },
  {
   "cell_type": "code",
   "execution_count": 43,
   "metadata": {},
   "outputs": [],
   "source": [
    "def display(time_arg):\n",
    "    print(time_arg)\n",
    "    print('数据类型：', type(time_arg))\n",
    "    print('-'*40)"
   ]
  },
  {
   "cell_type": "markdown",
   "metadata": {},
   "source": [
    "## 时间戳(float)<==>结构体时间(time.struct_time)"
   ]
  },
  {
   "cell_type": "code",
   "execution_count": 44,
   "metadata": {
    "tags": []
   },
   "outputs": [
    {
     "name": "stdout",
     "output_type": "stream",
     "text": [
      "1595317199.1326663\n",
      "数据类型： <class 'float'>\n",
      "----------------------------------------\n",
      "time.struct_time(tm_year=2020, tm_mon=7, tm_mday=21, tm_hour=15, tm_min=39, tm_sec=59, tm_wday=1, tm_yday=203, tm_isdst=0)\n",
      "数据类型： <class 'time.struct_time'>\n",
      "----------------------------------------\n",
      "time.struct_time(tm_year=2020, tm_mon=7, tm_mday=21, tm_hour=7, tm_min=39, tm_sec=59, tm_wday=1, tm_yday=203, tm_isdst=0)\n",
      "数据类型： <class 'time.struct_time'>\n",
      "----------------------------------------\n",
      "1595317199.0\n",
      "数据类型： <class 'float'>\n",
      "----------------------------------------\n"
     ]
    }
   ],
   "source": [
    "# 时间戳：time.time()返回当前时间戳\n",
    "now_stamp = time.time()\n",
    "display(now_stamp)\n",
    "\n",
    "# time.localtime()将时间戳转换为struct_time\n",
    "# 输出struct_time:包含年月日是分秒等\n",
    "time_st = time.localtime(now_stamp)\n",
    "display(time_st)\n",
    "time_st2 = time.gmtime(now_stamp)\n",
    "display(time_st2)\n",
    "\n",
    "# time.mktime()将struct_time转换为时间戳\n",
    "time_stamp = time.mktime(time_st)\n",
    "display(time_stamp)\n"
   ]
  },
  {
   "cell_type": "markdown",
   "metadata": {},
   "source": [
    "## 结构体时间(time.struct_time)<==>字符串(string)"
   ]
  },
  {
   "cell_type": "code",
   "execution_count": 45,
   "metadata": {
    "tags": []
   },
   "outputs": [
    {
     "name": "stdout",
     "output_type": "stream",
     "text": [
      "time.struct_time(tm_year=2020, tm_mon=7, tm_mday=14, tm_hour=0, tm_min=0, tm_sec=0, tm_wday=1, tm_yday=196, tm_isdst=-1)\n",
      "数据类型： <class 'time.struct_time'>\n",
      "----------------------------------------\n",
      "2020-07-14 00:00:00\n",
      "数据类型： <class 'str'>\n",
      "----------------------------------------\n"
     ]
    }
   ],
   "source": [
    "# time.strptime()将字符串转换为struct_time\n",
    "# %Y-%m-%d %H-%M-%S\n",
    "time_st = time.strptime('2020-07-14', '%Y-%m-%d')\n",
    "display(time_st)\n",
    "\n",
    "# time.strftime()将struct_time转换为字符串\n",
    "time_str = time.strftime('%Y-%m-%d %H:%M:%S', time_st)\n",
    "display(time_str)"
   ]
  },
  {
   "cell_type": "markdown",
   "metadata": {},
   "source": [
    "## 时间戳(float)<==>字符串(str)"
   ]
  },
  {
   "cell_type": "code",
   "execution_count": 46,
   "metadata": {
    "tags": []
   },
   "outputs": [
    {
     "name": "stdout",
     "output_type": "stream",
     "text": [
      "1595317201.8776987\n",
      "数据类型： <class 'float'>\n",
      "----------------------------------------\n",
      "2020-07-21 14:54:04\n",
      "数据类型： <class 'str'>\n",
      "----------------------------------------\n",
      "1594656000.0\n",
      "数据类型： <class 'float'>\n",
      "----------------------------------------\n"
     ]
    }
   ],
   "source": [
    "# 时间戳\n",
    "now_stamp = time.time()\n",
    "display(now_stamp)\n",
    "\n",
    "# 时间戳==>字符串\n",
    "time_str = time.strftime('%Y-%m-%d %H:%M:%S', time.localtime(seconds))\n",
    "display(time_str)\n",
    "\n",
    "# 字符串==>时间戳\n",
    "time_stamp = time.mktime(time.strptime('2020-07-14', '%Y-%m-%d'))\n",
    "display(time_stamp)"
   ]
  },
  {
   "cell_type": "markdown",
   "metadata": {},
   "source": [
    "## 时间(datetime.datetime)<==>字符串(str)"
   ]
  },
  {
   "cell_type": "code",
   "execution_count": 47,
   "metadata": {
    "tags": []
   },
   "outputs": [
    {
     "name": "stdout",
     "output_type": "stream",
     "text": [
      "2020-07-21 15:40:02\n",
      "数据类型： <class 'str'>\n",
      "----------------------------------------\n",
      "2020-07-21 15:40:02\n",
      "数据类型： <class 'datetime.datetime'>\n",
      "----------------------------------------\n",
      "2020-07-21 07:40:02\n",
      "数据类型： <class 'datetime.datetime'>\n",
      "----------------------------------------\n",
      "1595288402.0\n",
      "数据类型： <class 'float'>\n",
      "----------------------------------------\n"
     ]
    }
   ],
   "source": [
    "# 时间格式(datetime.datetime)==>字符串(str)\n",
    "time_dt = dt.datetime.now()\n",
    "time_str = time_dt.strftime('%Y-%m-%d %H:%M:%S')\n",
    "display(time_str)\n",
    "\n",
    "# 字符串(str)==>时间格式(datetime.datetime)\n",
    "time_dt = dt.datetime.strptime(time_str, '%Y-%m-%d %H:%M:%S')\n",
    "display(time_dt)\n",
    "\n",
    "# 时间戳(float)==>时间格式(datetime.datetime)\n",
    "now_stamp = time.time()    # 获取float格式的当前时间 整数位为10位是以秒为单位，整数位为13位是以毫秒为单位\n",
    "time_st = time.gmtime(now_stamp)    # 转成中间格式的时间结构体(time.struct_time) \n",
    "time_str = time.strftime('%Y-%m-%d %H:%M:%S', time_st)    # 再由中间格式转为字符串(str)\n",
    "time_dt = dt.datetime.strptime(time_str, '%Y-%m-%d %H:%M:%S')    # 最后由字符串格式转为datetime.datetime格式\n",
    "display(time_dt)\n",
    "\n",
    "# 时间格式(datetime.datetime)==>时间戳(float)\n",
    "time_dt = dt.datetime.utcnow()\n",
    "time_str = time_dt.strftime(\"%Y-%m-%d %H:%M:%S\")    #str类型的时间\n",
    "time_st = time.strptime(time_str, '%Y-%m-%d %H:%M:%S')    #转为时间结构体\n",
    "time_stamp = time.mktime(time_st)    # 转为时间戳\n",
    "display(time_stamp)"
   ]
  },
  {
   "cell_type": "markdown",
   "metadata": {},
   "source": [
    "## datetime的加减"
   ]
  },
  {
   "cell_type": "code",
   "execution_count": 48,
   "metadata": {
    "tags": []
   },
   "outputs": [
    {
     "name": "stdout",
     "output_type": "stream",
     "text": [
      "2020-07-21 15:40:03.977881\n",
      "2020-07-21 07:40:03.977881\n"
     ]
    }
   ],
   "source": [
    "from datetime import datetime\n",
    "now_time = datetime.now()\n",
    "utc_time = datetime.utcnow()\n",
    "\n",
    "print(now_time)\n",
    "print(utc_time)"
   ]
  },
  {
   "cell_type": "code",
   "execution_count": 49,
   "metadata": {
    "tags": []
   },
   "outputs": [
    {
     "name": "stdout",
     "output_type": "stream",
     "text": [
      "2020-07-21 15:40:04.408218\n",
      "2020-07-22 01:40:04.408218\n",
      "2020-07-20 15:40:04.408218\n",
      "2020-07-24 03:40:04.408218\n"
     ]
    }
   ],
   "source": [
    "from datetime import datetime, timedelta\n",
    "\n",
    "now_dt = datetime.now()\n",
    "\n",
    "print(now_dt)\n",
    "print(now_dt + timedelta(hours=10))\n",
    "print(now_dt - timedelta(days=1))\n",
    "print(now_dt + timedelta(days=2, hours=12))"
   ]
  },
  {
   "cell_type": "code",
   "execution_count": 50,
   "metadata": {
    "tags": []
   },
   "outputs": [
    {
     "name": "stdout",
     "output_type": "stream",
     "text": [
      "2020-07-21 15:40:04.891738\n",
      "1970-01-01 08:00:00\n"
     ]
    }
   ],
   "source": [
    "now_stamp = time.time()\n",
    "now_dt = datetime.now()\n",
    "print(now_dt)\n",
    "print(now_dt - timedelta(days=now_stamp/(24*60*60)))"
   ]
  },
  {
   "cell_type": "code",
   "execution_count": 22,
   "metadata": {},
   "outputs": [],
   "source": [
    "def get_var_name(var):\n",
    "    vk = {}\n",
    "    p_locals = locals().copy()\n",
    "    for k, v in p_locals.items():\n",
    "        vk[id(v)] = k\n",
    "    return vk[id(var)]"
   ]
  },
  {
   "cell_type": "code",
   "execution_count": 23,
   "metadata": {},
   "outputs": [
    {
     "data": {
      "text/plain": [
       "'var'"
      ]
     },
     "execution_count": 23,
     "metadata": {},
     "output_type": "execute_result"
    }
   ],
   "source": [
    "a =5\n",
    "get_var_name(a)"
   ]
  },
  {
   "cell_type": "code",
   "execution_count": 32,
   "metadata": {
    "tags": []
   },
   "outputs": [],
   "source": [
    "def var_name(var):\n",
    "    vk = {}\n",
    "    shit = {1:2, 2:3}\n",
    "    aa = [2,3,4]\n",
    "    p_locals = locals().copy()\n",
    "    for k, v in p_locals.items():\n",
    "        vk[id(v)] = k\n",
    "    def get_name(p, vk):\n",
    "        return vk[id(p)]\n",
    "    real_name = get_name(var, vk)\n",
    "    return real_name"
   ]
  },
  {
   "cell_type": "code",
   "execution_count": 33,
   "metadata": {
    "tags": []
   },
   "outputs": [
    {
     "data": {
      "text/plain": [
       "'var'"
      ]
     },
     "execution_count": 33,
     "metadata": {},
     "output_type": "execute_result"
    }
   ],
   "source": [
    "a = 5\n",
    "var_name(a)"
   ]
  },
  {
   "cell_type": "code",
   "execution_count": 34,
   "metadata": {},
   "outputs": [
    {
     "data": {
      "text/plain": [
       "'5'"
      ]
     },
     "execution_count": 34,
     "metadata": {},
     "output_type": "execute_result"
    }
   ],
   "source": [
    "repr(a)"
   ]
  },
  {
   "cell_type": "code",
   "execution_count": 36,
   "metadata": {},
   "outputs": [],
   "source": [
    "import inspect, re\n",
    "\n",
    "def varname(p):\n",
    "  for line in inspect.getframeinfo(inspect.currentframe().f_back)[3]:\n",
    "    m = re.search(r'\\bvarname\\s*\\(\\s*([A-Za-z_][A-Za-z0-9_]*)\\s*\\)', line)\n",
    "    if m:\n",
    "      return m.group(1)"
   ]
  },
  {
   "cell_type": "code",
   "execution_count": 37,
   "metadata": {},
   "outputs": [],
   "source": [
    "a = 5\n",
    "varname(5)"
   ]
  },
  {
   "cell_type": "code",
   "execution_count": 1,
   "metadata": {},
   "outputs": [
    {
     "name": "stdout",
     "output_type": "stream",
     "text": [
      "0.8500000000000001\n"
     ]
    }
   ],
   "source": [
    "print(0.55+0.3)"
   ]
  },
  {
   "cell_type": "code",
   "execution_count": 2,
   "metadata": {},
   "outputs": [
    {
     "data": {
      "text/plain": [
       "0"
      ]
     },
     "execution_count": 2,
     "metadata": {},
     "output_type": "execute_result"
    }
   ],
   "source": [
    "int(0.1)"
   ]
  },
  {
   "cell_type": "code",
   "execution_count": 5,
   "metadata": {},
   "outputs": [
    {
     "name": "stdout",
     "output_type": "stream",
     "text": [
      "['小明', '小刚', '小美']\n",
      "['小明', '小刚']\n"
     ]
    }
   ],
   "source": [
    "students = ['小明','小红','小刚','小美']\n",
    "del students[1]    #根据索引删除元素\n",
    "print(students)\n",
    "\n",
    "del students[2:3]\n",
    "print(students)"
   ]
  },
  {
   "cell_type": "code",
   "execution_count": 8,
   "metadata": {},
   "outputs": [
    {
     "data": {
      "text/plain": [
       "['小明', '新小红', '新小刚', '小美']"
      ]
     },
     "execution_count": 8,
     "metadata": {},
     "output_type": "execute_result"
    }
   ],
   "source": [
    "students = ['小明','小红','小刚','小美']\n",
    "students[1:3] = ['新小红', '新小刚']\n",
    "students"
   ]
  },
  {
   "cell_type": "code",
   "execution_count": 7,
   "metadata": {},
   "outputs": [
    {
     "data": {
      "text/plain": [
       "['add', '小红', '小刚', '小美']"
      ]
     },
     "execution_count": 7,
     "metadata": {},
     "output_type": "execute_result"
    }
   ],
   "source": [
    "students[0] = 'add'\n",
    "students"
   ]
  },
  {
   "cell_type": "code",
   "execution_count": null,
   "metadata": {},
   "outputs": [],
   "source": []
  }
 ],
 "metadata": {
  "kernelspec": {
   "display_name": "Python 3",
   "language": "python",
   "name": "python3"
  },
  "language_info": {
   "codemirror_mode": {
    "name": "ipython",
    "version": 3
   },
   "file_extension": ".py",
   "mimetype": "text/x-python",
   "name": "python",
   "nbconvert_exporter": "python",
   "pygments_lexer": "ipython3",
   "version": "3.7.5"
  },
  "toc": {
   "base_numbering": 1,
   "nav_menu": {},
   "number_sections": true,
   "sideBar": true,
   "skip_h1_title": false,
   "title_cell": "Table of Contents",
   "title_sidebar": "Contents",
   "toc_cell": false,
   "toc_position": {},
   "toc_section_display": true,
   "toc_window_display": false
  }
 },
 "nbformat": 4,
 "nbformat_minor": 2
}
