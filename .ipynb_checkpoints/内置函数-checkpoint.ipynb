{
 "cells": [
  {
   "cell_type": "markdown",
   "metadata": {},
   "source": [
    "# 数值相关"
   ]
  },
  {
   "cell_type": "markdown",
   "metadata": {},
   "source": [
    "## 数据类型\n",
    "- bool : 布尔型(True,False)\n",
    "- int : 整型(整数)，向下取整；\n",
    "- float : 浮点型(小数)\n",
    "- complex : 复数"
   ]
  },
  {
   "cell_type": "code",
   "execution_count": 5,
   "metadata": {},
   "outputs": [
    {
     "name": "stdout",
     "output_type": "stream",
     "text": [
      "True\n",
      "True\n",
      "False\n",
      "False\n"
     ]
    }
   ],
   "source": [
    "bool_lst = [1, 'word', 0, '']\n",
    "for e in bool_lst:\n",
    "    print(bool(e))"
   ]
  },
  {
   "cell_type": "code",
   "execution_count": 10,
   "metadata": {},
   "outputs": [
    {
     "name": "stdout",
     "output_type": "stream",
     "text": [
      "1\n",
      "1\n",
      "1\n",
      "-1\n",
      "-1\n",
      "Error: 1.1\n"
     ]
    }
   ],
   "source": [
    "int_lst = [1, 1.1, 1.6, -1.1, -1.6, '1.1']\n",
    "for e in int_lst:\n",
    "    try:\n",
    "        print(int(e))\n",
    "    except:\n",
    "        print('Error:', e)"
   ]
  },
  {
   "cell_type": "code",
   "execution_count": 11,
   "metadata": {},
   "outputs": [
    {
     "name": "stdout",
     "output_type": "stream",
     "text": [
      "1.0\n",
      "1.1\n",
      "-1.1\n",
      "-1.6\n",
      "1.1\n"
     ]
    }
   ],
   "source": [
    "float_lst = [1, 1.1, -1.1, -1.6, '1.1']\n",
    "for e in float_lst:\n",
    "    try:\n",
    "        print(float(e))\n",
    "    except:\n",
    "        print('Error:', e)"
   ]
  },
  {
   "cell_type": "code",
   "execution_count": 16,
   "metadata": {},
   "outputs": [
    {
     "name": "stdout",
     "output_type": "stream",
     "text": [
      "(1+0j)\n",
      "(1.1+1j)\n",
      "(-1.1-1j)\n",
      "(-1.6+0j)\n",
      "(1.1+0j)\n",
      "(1+3.4j)\n"
     ]
    }
   ],
   "source": [
    "complex_lst = [1, 1.1+1j, -1.1-1j, -1.6, '1.1', '1+3.4j']\n",
    "for e in complex_lst:\n",
    "    try:\n",
    "        print(complex(e))\n",
    "    except:\n",
    "        print('Error:', e)"
   ]
  },
  {
   "cell_type": "markdown",
   "metadata": {},
   "source": [
    "## 进制转换\n",
    "- bin() 将给的参数转换成二进制\n",
    "- otc() 将给的参数转换成八进制\n",
    "- hex() 将给的参数转换成十六进制"
   ]
  },
  {
   "cell_type": "code",
   "execution_count": 17,
   "metadata": {},
   "outputs": [
    {
     "name": "stdout",
     "output_type": "stream",
     "text": [
      "Bin: 0b0 Oct: 0o0 Hex: 0x0\n",
      "Bin: 0b1 Oct: 0o1 Hex: 0x1\n",
      "Bin: 0b1010 Oct: 0o12 Hex: 0xa\n",
      "Bin: 0b1100100 Oct: 0o144 Hex: 0x64\n"
     ]
    }
   ],
   "source": [
    "num_list = [0, 1, 10, 100]\n",
    "for e in num_list:\n",
    "    print('Bin:', bin(e), 'Oct:', oct(e), 'Hex:', hex(e))"
   ]
  },
  {
   "cell_type": "markdown",
   "metadata": {},
   "source": [
    "## 数学运算\n",
    "- abs() 返回绝对值\n",
    "- divmode() 返回商和余数\n",
    "- round() 四舍五入, 奇进偶弃；\n",
    "- pow(a, b) 求a的b次幂, 如果有三个参数. 则求完次幂后对第三个数取余\n",
    "- sum() 求和\n",
    "- min() 求最小值\n",
    "- max() 求最大值"
   ]
  },
  {
   "cell_type": "code",
   "execution_count": 18,
   "metadata": {},
   "outputs": [
    {
     "name": "stdout",
     "output_type": "stream",
     "text": [
      "2\n",
      "(6, 2)\n",
      "4\n",
      "5\n",
      "1\n",
      "55\n",
      "2\n",
      "15\n"
     ]
    }
   ],
   "source": [
    "print(abs(-2))                      # 绝对值:2\n",
    "print(divmod(20,3))                 # 求商和余数:(6,2)\n",
    "print(round(4.50))                  # 五舍六入:4\n",
    "print(round(4.51))                  # 5 \n",
    "print(pow(10,2,3))                  # 如果给了第三个参数. 表示最后取余:1\n",
    "print(sum([1,2,3,4,5,6,7,8,9,10]))  # 求和:55\n",
    "print(min(5,3,9,12,7,2))            #求最小值:2\n",
    "print(max(7,3,15,9,4,13))           #求最大值:15"
   ]
  },
  {
   "cell_type": "code",
   "execution_count": 26,
   "metadata": {},
   "outputs": [
    {
     "data": {
      "text/plain": [
       "2.6"
      ]
     },
     "execution_count": 26,
     "metadata": {},
     "output_type": "execute_result"
    }
   ],
   "source": [
    "round(2.65, 1)"
   ]
  },
  {
   "cell_type": "code",
   "execution_count": 27,
   "metadata": {},
   "outputs": [
    {
     "data": {
      "text/plain": [
       "2.5"
      ]
     },
     "execution_count": 27,
     "metadata": {},
     "output_type": "execute_result"
    }
   ],
   "source": [
    "round(2.45, 1)"
   ]
  },
  {
   "cell_type": "code",
   "execution_count": null,
   "metadata": {},
   "outputs": [],
   "source": []
  }
 ],
 "metadata": {
  "kernelspec": {
   "display_name": "Python 3",
   "language": "python",
   "name": "python3"
  },
  "language_info": {
   "codemirror_mode": {
    "name": "ipython",
    "version": 3
   },
   "file_extension": ".py",
   "mimetype": "text/x-python",
   "name": "python",
   "nbconvert_exporter": "python",
   "pygments_lexer": "ipython3",
   "version": "3.8.3"
  },
  "toc": {
   "base_numbering": 1,
   "nav_menu": {},
   "number_sections": true,
   "sideBar": true,
   "skip_h1_title": false,
   "title_cell": "Table of Contents",
   "title_sidebar": "Contents",
   "toc_cell": false,
   "toc_position": {},
   "toc_section_display": true,
   "toc_window_display": true
  }
 },
 "nbformat": 4,
 "nbformat_minor": 4
}
